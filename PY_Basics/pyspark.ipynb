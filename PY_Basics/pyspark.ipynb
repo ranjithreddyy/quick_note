{
 "cells": [
  {
   "cell_type": "code",
   "execution_count": null,
   "metadata": {},
   "outputs": [],
   "source": []
  }
 ],
 "metadata": {
  "kernelspec": {
   "display_name": "Python 3.10.5 64-bit",
   "language": "python",
   "name": "python3"
  },
  "language_info": {
   "name": "python",
   "version": "3.10.5"
  },
  "orig_nbformat": 4,
  "vscode": {
   "interpreter": {
    "hash": "49aa410d316b367e7223ecab54306aecad7f4f57e7920c03a2c2ba7ae87e84e2"
   }
  }
 },
 "nbformat": 4,
 "nbformat_minor": 2
}
